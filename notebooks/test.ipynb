{
 "cells": [
  {
   "cell_type": "markdown",
   "metadata": {},
   "source": [
    "# Test Drive the Experiment Class\n",
    "\n",
    "### Testing Locally before Deploying to Cluster\n",
    "\n",
    "#### 07/09/2023"
   ]
  },
  {
   "cell_type": "markdown",
   "metadata": {},
   "source": []
  },
  {
   "cell_type": "code",
   "execution_count": 1,
   "metadata": {},
   "outputs": [
    {
     "name": "stderr",
     "output_type": "stream",
     "text": [
      "/home/dxk/miniconda3/envs/ace/lib/python3.9/site-packages/tqdm/auto.py:21: TqdmWarning: IProgress not found. Please update jupyter and ipywidgets. See https://ipywidgets.readthedocs.io/en/stable/user_install.html\n",
      "  from .autonotebook import tqdm as notebook_tqdm\n"
     ]
    }
   ],
   "source": [
    "import numpy as np\n",
    "import pandas as pd\n",
    "import matplotlib.pyplot as plt\n",
    "\n",
    "from importlib import resources\n",
    "from acesim.solver_ace import AceSolver\n",
    "#from acesim.solver_bogey import BogeySolver\n",
    "\n",
    "from acesim.experiment import Experiment"
   ]
  },
  {
   "cell_type": "markdown",
   "metadata": {},
   "source": [
    "## End-to-End Test of the Experiment Class"
   ]
  },
  {
   "cell_type": "code",
   "execution_count": 2,
   "metadata": {},
   "outputs": [],
   "source": [
    "#bogey_solver = BogeySolver(name='bogey', random_seed=42)\n",
    "ace_solver = AceSolver(name='ace', clus\n",
    "    \n",
    "    er_peptides=True,\n",
    "    random_seed=42,\n",
    "    mode='golfy',\n",
    "    trained_model_file=resources.path('acelib.resources.models', 'seq_sim_trained_model.pt')\n",
    ")"
   ]
  },
  {
   "cell_type": "code",
   "execution_count": 4,
   "metadata": {},
   "outputs": [
    {
     "name": "stderr",
     "output_type": "stream",
     "text": [
      "2023-07-20 20:42:23 INFO     cuda\n",
      "2023-07-20 20:42:23 INFO     cuda\n",
      "2023-07-20 20:42:23 INFO     cuda\n",
      "2023-07-20 20:42:24 INFO     cuda\n"
     ]
    },
    {
     "ename": "FileNotFoundError",
     "evalue": "[Errno 2] No such file or directory: 'models/ace_model.pt'",
     "output_type": "error",
     "traceback": [
      "\u001b[0;31m---------------------------------------------------------------------------\u001b[0m",
      "\u001b[0;31mRemoteTraceback\u001b[0m                           Traceback (most recent call last)",
      "\u001b[0;31mRemoteTraceback\u001b[0m: \n\"\"\"\nTraceback (most recent call last):\n  File \"/home/dxk/miniconda3/envs/ace/lib/python3.9/multiprocessing/pool.py\", line 125, in worker\n    result = (True, func(*args, **kwds))\n  File \"/home/dxk/miniconda3/envs/ace/lib/python3.9/multiprocessing/pool.py\", line 48, in mapstar\n    return list(map(*args))\n  File \"/home/dxk/miniconda3/envs/ace/lib/python3.9/site-packages/acesim/experiment.py\", line 135, in run_worker\n    df_configuration = solver.generate_assignment(\n  File \"/home/dxk/miniconda3/envs/ace/lib/python3.9/site-packages/acesim/solver_ace.py\", line 63, in generate_assignment\n    ace_eng.load_weights(self.trained_model_file)\n  File \"/home/dxk/miniconda3/envs/ace/lib/python3.9/site-packages/acelib/sequence_features.py\", line 127, in load_weights\n    self.load_state_dict(torch.load(weights_path, map_location=self.device))\n  File \"/home/dxk/miniconda3/envs/ace/lib/python3.9/site-packages/torch/serialization.py\", line 791, in load\n    with _open_file_like(f, 'rb') as opened_file:\n  File \"/home/dxk/miniconda3/envs/ace/lib/python3.9/site-packages/torch/serialization.py\", line 271, in _open_file_like\n    return _open_file(name_or_buffer, mode)\n  File \"/home/dxk/miniconda3/envs/ace/lib/python3.9/site-packages/torch/serialization.py\", line 252, in __init__\n    super().__init__(open(name, mode))\nFileNotFoundError: [Errno 2] No such file or directory: 'models/ace_model.pt'\n\"\"\"",
      "\nThe above exception was the direct cause of the following exception:\n",
      "\u001b[0;31mFileNotFoundError\u001b[0m                         Traceback (most recent call last)",
      "Cell \u001b[0;32mIn[4], line 17\u001b[0m\n\u001b[1;32m      1\u001b[0m experiment \u001b[39m=\u001b[39m Experiment(\n\u001b[1;32m      2\u001b[0m     num_peptides\u001b[39m=\u001b[39m\u001b[39m25\u001b[39m,\n\u001b[1;32m      3\u001b[0m     num_positives\u001b[39m=\u001b[39m\u001b[39m5\u001b[39m,\n\u001b[0;32m   (...)\u001b[0m\n\u001b[1;32m     14\u001b[0m     num_processes\u001b[39m=\u001b[39m\u001b[39m1\u001b[39m\n\u001b[1;32m     15\u001b[0m )\n\u001b[0;32m---> 17\u001b[0m experiment\u001b[39m.\u001b[39;49mrun(\u001b[39m1000\u001b[39;49m)\n",
      "File \u001b[0;32m~/miniconda3/envs/ace/lib/python3.9/site-packages/acesim/experiment.py:207\u001b[0m, in \u001b[0;36mExperiment.run\u001b[0;34m(self, num_iterations)\u001b[0m\n\u001b[1;32m    205\u001b[0m pool \u001b[39m=\u001b[39m mp\u001b[39m.\u001b[39mPool(processes\u001b[39m=\u001b[39m\u001b[39mself\u001b[39m\u001b[39m.\u001b[39mnum_processes)\n\u001b[1;32m    206\u001b[0m func \u001b[39m=\u001b[39m partial(\u001b[39mself\u001b[39m\u001b[39m.\u001b[39mrun_worker)\n\u001b[0;32m--> 207\u001b[0m results \u001b[39m=\u001b[39m pool\u001b[39m.\u001b[39;49mmap(func, iterations)\n\u001b[1;32m    208\u001b[0m pool\u001b[39m.\u001b[39mclose()\n\u001b[1;32m    210\u001b[0m \u001b[39m# Postprocess results\u001b[39;00m\n",
      "File \u001b[0;32m~/miniconda3/envs/ace/lib/python3.9/multiprocessing/pool.py:364\u001b[0m, in \u001b[0;36mPool.map\u001b[0;34m(self, func, iterable, chunksize)\u001b[0m\n\u001b[1;32m    359\u001b[0m \u001b[39mdef\u001b[39;00m \u001b[39mmap\u001b[39m(\u001b[39mself\u001b[39m, func, iterable, chunksize\u001b[39m=\u001b[39m\u001b[39mNone\u001b[39;00m):\n\u001b[1;32m    360\u001b[0m \u001b[39m    \u001b[39m\u001b[39m'''\u001b[39;00m\n\u001b[1;32m    361\u001b[0m \u001b[39m    Apply `func` to each element in `iterable`, collecting the results\u001b[39;00m\n\u001b[1;32m    362\u001b[0m \u001b[39m    in a list that is returned.\u001b[39;00m\n\u001b[1;32m    363\u001b[0m \u001b[39m    '''\u001b[39;00m\n\u001b[0;32m--> 364\u001b[0m     \u001b[39mreturn\u001b[39;00m \u001b[39mself\u001b[39;49m\u001b[39m.\u001b[39;49m_map_async(func, iterable, mapstar, chunksize)\u001b[39m.\u001b[39;49mget()\n",
      "File \u001b[0;32m~/miniconda3/envs/ace/lib/python3.9/multiprocessing/pool.py:771\u001b[0m, in \u001b[0;36mApplyResult.get\u001b[0;34m(self, timeout)\u001b[0m\n\u001b[1;32m    769\u001b[0m     \u001b[39mreturn\u001b[39;00m \u001b[39mself\u001b[39m\u001b[39m.\u001b[39m_value\n\u001b[1;32m    770\u001b[0m \u001b[39melse\u001b[39;00m:\n\u001b[0;32m--> 771\u001b[0m     \u001b[39mraise\u001b[39;00m \u001b[39mself\u001b[39m\u001b[39m.\u001b[39m_value\n",
      "\u001b[0;31mFileNotFoundError\u001b[0m: [Errno 2] No such file or directory: 'models/ace_model.pt'"
     ]
    }
   ],
   "source": [
    "experiment = Experiment(\n",
    "    num_peptides=25,\n",
    "    num_positives=5,\n",
    "    num_peptides_per_pool=5,\n",
    "    coverage=3,\n",
    "    solvers=[ace_solver],\n",
    "    random_effects=False,\n",
    "    df_ref_peptides=pd.read_csv('../refs/iedb_mmer_all.csv'),\n",
    "    mu_immunogenic=100.0,\n",
    "    mu_nonimmunogenic=10.0,\n",
    "    dispersion_factor=2.0,\n",
    "    method='threshold',\n",
    "    alpha=0.05,\n",
    "    num_processes=1\n",
    ")\n",
    "\n",
    "experiment.run(1000)"
   ]
  },
  {
   "cell_type": "markdown",
   "metadata": {},
   "source": [
    "## Testing Individual Functions"
   ]
  },
  {
   "cell_type": "code",
   "execution_count": 9,
   "metadata": {},
   "outputs": [
    {
     "data": {
      "text/html": [
       "<div>\n",
       "<style scoped>\n",
       "    .dataframe tbody tr th:only-of-type {\n",
       "        vertical-align: middle;\n",
       "    }\n",
       "\n",
       "    .dataframe tbody tr th {\n",
       "        vertical-align: top;\n",
       "    }\n",
       "\n",
       "    .dataframe thead th {\n",
       "        text-align: right;\n",
       "    }\n",
       "</style>\n",
       "<table border=\"1\" class=\"dataframe\">\n",
       "  <thead>\n",
       "    <tr style=\"text-align: right;\">\n",
       "      <th></th>\n",
       "      <th>peptide_id</th>\n",
       "      <th>peptide_sequence</th>\n",
       "    </tr>\n",
       "  </thead>\n",
       "  <tbody>\n",
       "    <tr>\n",
       "      <th>0</th>\n",
       "      <td>peptide_0</td>\n",
       "      <td>AMCRTPFSL</td>\n",
       "    </tr>\n",
       "    <tr>\n",
       "      <th>1</th>\n",
       "      <td>peptide_1</td>\n",
       "      <td>IPSVILDWSF</td>\n",
       "    </tr>\n",
       "    <tr>\n",
       "      <th>2</th>\n",
       "      <td>peptide_2</td>\n",
       "      <td>AMAGSPVFL</td>\n",
       "    </tr>\n",
       "    <tr>\n",
       "      <th>3</th>\n",
       "      <td>peptide_3</td>\n",
       "      <td>HARLRELL</td>\n",
       "    </tr>\n",
       "    <tr>\n",
       "      <th>4</th>\n",
       "      <td>peptide_4</td>\n",
       "      <td>PPQLSYTEL</td>\n",
       "    </tr>\n",
       "    <tr>\n",
       "      <th>5</th>\n",
       "      <td>peptide_5</td>\n",
       "      <td>RVDLHLPRFK</td>\n",
       "    </tr>\n",
       "    <tr>\n",
       "      <th>6</th>\n",
       "      <td>peptide_6</td>\n",
       "      <td>REISVPAEIL</td>\n",
       "    </tr>\n",
       "    <tr>\n",
       "      <th>7</th>\n",
       "      <td>peptide_7</td>\n",
       "      <td>FLDEFMEGV</td>\n",
       "    </tr>\n",
       "    <tr>\n",
       "      <th>8</th>\n",
       "      <td>peptide_8</td>\n",
       "      <td>WLSQGQFLL</td>\n",
       "    </tr>\n",
       "    <tr>\n",
       "      <th>9</th>\n",
       "      <td>peptide_9</td>\n",
       "      <td>SVWGSSRWL</td>\n",
       "    </tr>\n",
       "    <tr>\n",
       "      <th>10</th>\n",
       "      <td>peptide_10</td>\n",
       "      <td>WLYNTVATL</td>\n",
       "    </tr>\n",
       "    <tr>\n",
       "      <th>11</th>\n",
       "      <td>peptide_11</td>\n",
       "      <td>DHRDSKVSL</td>\n",
       "    </tr>\n",
       "    <tr>\n",
       "      <th>12</th>\n",
       "      <td>peptide_12</td>\n",
       "      <td>WFFGQSLCKV</td>\n",
       "    </tr>\n",
       "    <tr>\n",
       "      <th>13</th>\n",
       "      <td>peptide_13</td>\n",
       "      <td>RPRGEVRFL</td>\n",
       "    </tr>\n",
       "    <tr>\n",
       "      <th>14</th>\n",
       "      <td>peptide_14</td>\n",
       "      <td>LLAILPYYV</td>\n",
       "    </tr>\n",
       "    <tr>\n",
       "      <th>15</th>\n",
       "      <td>peptide_15</td>\n",
       "      <td>DLMGYIPLV</td>\n",
       "    </tr>\n",
       "    <tr>\n",
       "      <th>16</th>\n",
       "      <td>peptide_16</td>\n",
       "      <td>ETFMNKFIYEI</td>\n",
       "    </tr>\n",
       "    <tr>\n",
       "      <th>17</th>\n",
       "      <td>peptide_17</td>\n",
       "      <td>VFVSNGTHW</td>\n",
       "    </tr>\n",
       "    <tr>\n",
       "      <th>18</th>\n",
       "      <td>peptide_18</td>\n",
       "      <td>GISPKIMPK</td>\n",
       "    </tr>\n",
       "    <tr>\n",
       "      <th>19</th>\n",
       "      <td>peptide_19</td>\n",
       "      <td>SEPVLKGVKL</td>\n",
       "    </tr>\n",
       "    <tr>\n",
       "      <th>20</th>\n",
       "      <td>peptide_20</td>\n",
       "      <td>KPRQKRTAT</td>\n",
       "    </tr>\n",
       "    <tr>\n",
       "      <th>21</th>\n",
       "      <td>peptide_21</td>\n",
       "      <td>VVALIGNVL</td>\n",
       "    </tr>\n",
       "    <tr>\n",
       "      <th>22</th>\n",
       "      <td>peptide_22</td>\n",
       "      <td>RTTWSIHAK</td>\n",
       "    </tr>\n",
       "    <tr>\n",
       "      <th>23</th>\n",
       "      <td>peptide_23</td>\n",
       "      <td>SYVKVLHHM</td>\n",
       "    </tr>\n",
       "    <tr>\n",
       "      <th>24</th>\n",
       "      <td>peptide_24</td>\n",
       "      <td>FYSALPGYI</td>\n",
       "    </tr>\n",
       "  </tbody>\n",
       "</table>\n",
       "</div>"
      ],
      "text/plain": [
       "    peptide_id peptide_sequence\n",
       "0    peptide_0        AMCRTPFSL\n",
       "1    peptide_1       IPSVILDWSF\n",
       "2    peptide_2        AMAGSPVFL\n",
       "3    peptide_3         HARLRELL\n",
       "4    peptide_4        PPQLSYTEL\n",
       "5    peptide_5       RVDLHLPRFK\n",
       "6    peptide_6       REISVPAEIL\n",
       "7    peptide_7        FLDEFMEGV\n",
       "8    peptide_8        WLSQGQFLL\n",
       "9    peptide_9        SVWGSSRWL\n",
       "10  peptide_10        WLYNTVATL\n",
       "11  peptide_11        DHRDSKVSL\n",
       "12  peptide_12       WFFGQSLCKV\n",
       "13  peptide_13        RPRGEVRFL\n",
       "14  peptide_14        LLAILPYYV\n",
       "15  peptide_15        DLMGYIPLV\n",
       "16  peptide_16      ETFMNKFIYEI\n",
       "17  peptide_17        VFVSNGTHW\n",
       "18  peptide_18        GISPKIMPK\n",
       "19  peptide_19       SEPVLKGVKL\n",
       "20  peptide_20        KPRQKRTAT\n",
       "21  peptide_21        VVALIGNVL\n",
       "22  peptide_22        RTTWSIHAK\n",
       "23  peptide_23        SYVKVLHHM\n",
       "24  peptide_24        FYSALPGYI"
      ]
     },
     "execution_count": 9,
     "metadata": {},
     "output_type": "execute_result"
    }
   ],
   "source": [
    "### Test the Sampling of Peptides (Step 1)\n",
    "df_peptide, label_dict = experiment.sample_peptides(42)\n",
    "df_peptide"
   ]
  },
  {
   "cell_type": "code",
   "execution_count": 3,
   "metadata": {},
   "outputs": [
    {
     "data": {
      "text/plain": [
       "array([0, 0, 0, 1, 1, 1, 0, 1, 0, 0])"
      ]
     },
     "execution_count": 3,
     "metadata": {},
     "output_type": "execute_result"
    }
   ],
   "source": [
    "\n",
    "np.random.negative_binomial(1, 0.5, 10)"
   ]
  },
  {
   "cell_type": "code",
   "execution_count": null,
   "metadata": {},
   "outputs": [],
   "source": []
  }
 ],
 "metadata": {
  "kernelspec": {
   "display_name": "ace",
   "language": "python",
   "name": "python3"
  },
  "language_info": {
   "codemirror_mode": {
    "name": "ipython",
    "version": 3
   },
   "file_extension": ".py",
   "mimetype": "text/x-python",
   "name": "python",
   "nbconvert_exporter": "python",
   "pygments_lexer": "ipython3",
   "version": "3.9.16"
  },
  "orig_nbformat": 4
 },
 "nbformat": 4,
 "nbformat_minor": 2
}
